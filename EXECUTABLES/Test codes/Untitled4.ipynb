{
 "cells": [
  {
   "cell_type": "code",
   "execution_count": 1,
   "metadata": {},
   "outputs": [],
   "source": [
    "import numpy as np\n",
    "import calendar\n",
    "from scipy.signal import savgol_filter\n",
    "from datetime import datetime, timedelta\n",
    "from osgeo import gdal"
   ]
  },
  {
   "cell_type": "code",
   "execution_count": 2,
   "metadata": {},
   "outputs": [],
   "source": [
    "start = datetime.strptime(\"01-01-1979\", \"%d-%m-%Y\")\n",
    "end = datetime.strptime(\"31-12-1981\", \"%d-%m-%Y\")\n",
    "analysis_period_years = end.year - start.year + 1\n",
    "date_generated = [start + timedelta(days=x) for x in range(0, (end-start).days + 1)]"
   ]
  },
  {
   "cell_type": "code",
   "execution_count": 3,
   "metadata": {},
   "outputs": [],
   "source": [
    "src_filepath = \"/Users/juanmanuel/Documents/Juan Manuel/Universidad/TESIS/Datos/meteodata/calib/prec/TIFF/\"\n",
    "dst_filepath = \"/Users/juanmanuel/Documents/Juan Manuel/Universidad/TESIS/Datos/meteodata/calib/prec/TEST/\"\n",
    "shpfile_clip = '/Users/juanmanuel/Documents/OneDrive - ESCUELA COLOMBIANA DE INGENIERIA JULIO GARAVITO/1. TRABAJO DE GRADO/1. Tesis/2. Datos/0. Datos 20190912/Datos _iniciales/data/GIS/Mapa_General/cuenca_magdalena_proyectado.shp'"
   ]
  },
  {
   "cell_type": "code",
   "execution_count": 4,
   "metadata": {},
   "outputs": [],
   "source": [
    "reference_raster = gdal.Open(\"/Users/juanmanuel/Documents/Juan Manuel/Universidad/TESIS/Datos/meteodata/calib/prec/TIFF/daily-prec_19790101.tiff\")\n",
    "reference_raster_array = np.array(reference_raster.GetRasterBand(1).ReadAsArray())\n",
    "raster_rows = len(reference_raster_array)\n",
    "raster_columns = len(reference_raster_array[0])\n",
    "reference_raster = None"
   ]
  },
  {
   "cell_type": "code",
   "execution_count": 5,
   "metadata": {},
   "outputs": [],
   "source": [
    "#CODE FOR EXTRACT DATA FROM RASTERS. EXPORTED TO A DATABASE\n",
    "\n",
    "db = np.zeros(shape=(raster_rows, raster_columns, analysis_period_years, 12, 31))\n",
    "\n",
    "year = 0\n",
    "month = 0\n",
    "day = 0\n",
    "\n",
    "for date in date_generated:\n",
    "    fulldate = int(date.strftime(\"%Y%m%d\"))\n",
    "    raster = gdal.Open( src_filepath + \"daily-prec_\" + str(fulldate) + \".tiff\" )\n",
    "    raster_array = np.array(raster.GetRasterBand(1).ReadAsArray())\n",
    "    raster = None\n",
    "    db[:, :, year, month, day] = raster_array\n",
    "    day += 1\n",
    "    \n",
    "    if date.year == (date + timedelta(days = 1)).year:\n",
    "        if date.month != (date + timedelta(days = 1)).month:\n",
    "            month += 1\n",
    "            day = 0\n",
    "    else:\n",
    "        year += 1\n",
    "        month = 0\n",
    "        day = 0\n",
    "\n",
    "np.save(\"/Users/juanmanuel/Documents/Juan Manuel/Universidad/TESIS/Datos/meteodata/calib/prec/DBs/prec_db.npy\", db)\n",
    "#-----------------------------------------------------------------------------------------------------------------"
   ]
  },
  {
   "cell_type": "code",
   "execution_count": 6,
   "metadata": {},
   "outputs": [],
   "source": [
    "#CODE FOR CALCULATING MOTNHLY PERCENTILE 85. EXPORTED TO A DATABASE\n",
    "\n",
    "db_month_p85 = np.empty((raster_rows, raster_columns, 12))\n",
    "\n",
    "for row in range(raster_rows):\n",
    "    for column in range(raster_columns):\n",
    "        for month in range(12):\n",
    "            a = np.array([])\n",
    "            for year in range(analysis_period_years):\n",
    "                days_of_month = calendar.monthrange(start.year + year, month + 1)[1]\n",
    "                for day in range(days_of_month):\n",
    "                    a = np.append(a, db[row, column, year, month, day])\n",
    "            db_month_p85[row, column, month] = np.percentile(a, 15)        \n",
    "\n",
    "np.save(\"/Users/juanmanuel/Documents/Juan Manuel/Universidad/TESIS/Datos/meteodata/calib/prec/DBs/threshold_monthly_perc85.npy\", db_month_p85)\n",
    "#-----------------------------------------------------------------------------------------------------------------"
   ]
  },
  {
   "cell_type": "code",
   "execution_count": 16,
   "metadata": {},
   "outputs": [],
   "source": [
    "#SETTING UP LEAP AND REGULAR YEARS\n",
    "\n",
    "flat_p85_regular_year = np.empty((raster_rows, raster_columns, 365))\n",
    "flat_p85_leap_year = np.empty((raster_rows, raster_columns, 366))\n",
    "\n",
    "smooth_p85_regular_year = np.empty((raster_rows, raster_columns, 365))\n",
    "smooth_p85_leap_year = np.empty((raster_rows, raster_columns, 366))\n",
    "\n",
    "start_regular_year = datetime.strptime(\"01-01-1979\", \"%d-%m-%Y\")\n",
    "end_regular_year = datetime.strptime(\"31-12-1979\", \"%d-%m-%Y\")\n",
    "date_generated_regular_year = [start_regular_year + timedelta(days=x) for x in range(0, (end_regular_year-start_regular_year).days + 1)]\n",
    "\n",
    "start_leap_year = datetime.strptime(\"01-01-1980\", \"%d-%m-%Y\")\n",
    "end_leap_year = datetime.strptime(\"31-12-1980\", \"%d-%m-%Y\")\n",
    "date_generated_leap_year = [start_leap_year + timedelta(days=x) for x in range(0, (end_leap_year-start_leap_year).days + 1)]\n",
    "#-----------------------------------------------------------------------------------------------------------------"
   ]
  },
  {
   "cell_type": "code",
   "execution_count": 8,
   "metadata": {},
   "outputs": [],
   "source": [
    "#CODE FOR GENERATING THRESHOLD SERIES FOR LEAP AND REGULAR YEARS\n",
    "\n",
    "i = 0\n",
    "j = 0\n",
    "for row in range(raster_rows):\n",
    "    for column in range(raster_columns):\n",
    "        for date in date_generated_regular_year:\n",
    "            flat_p85_regular_year[row, column, i] = db_month_p85[row, column, date.month - 1]\n",
    "            i += 1\n",
    "        for date in date_generated_leap_year:\n",
    "            flat_p85_leap_year[row, column, j] = db_month_p85[row, column, date.month - 1]\n",
    "            j += 1\n",
    "        i = 0\n",
    "        j = 0\n",
    "\n",
    "np.save(\"/Users/juanmanuel/Documents/Juan Manuel/Universidad/TESIS/Datos/meteodata/calib/prec/DBs/flattened_threshold_monthly_p85_regular_year.npy\", flat_p85_regular_year)\n",
    "np.save(\"/Users/juanmanuel/Documents/Juan Manuel/Universidad/TESIS/Datos/meteodata/calib/prec/DBs/flattened_threshold_monthly_p85_leap_year.npy\", flat_p85_leap_year)\n",
    "#-----------------------------------------------------------------------------------------------------------------"
   ]
  },
  {
   "cell_type": "code",
   "execution_count": 20,
   "metadata": {},
   "outputs": [],
   "source": [
    "#CODE FOR SMOOTHING THRESHOLDS FROM LEAP AND REGULAR YEARS\n",
    "\n",
    "for row in range(raster_rows):\n",
    "    for column in range(raster_columns):\n",
    "        y_p85_regular_year = flat_p85_regular_year[row, column, :]\n",
    "        y_p85_leap_year = flat_p85_leap_year[row, column, :]\n",
    "        smooth_p85_regular_year[row, column, :] = savgol_filter(y_p85_regular_year, 45, 3) # window size 51, polynomial order 3\n",
    "        smooth_p85_leap_year[row, column, :] = savgol_filter(y_p85_leap_year, 45, 3) # window size 51, polynomial order 3\n",
    "\n",
    "np.save(\"/Users/juanmanuel/Documents/Juan Manuel/Universidad/TESIS/Datos/meteodata/calib/prec/DBs/smoothed_threshold_monthly_p85_regular_year.npy\", smooth_p85_regular_year)\n",
    "np.save(\"/Users/juanmanuel/Documents/Juan Manuel/Universidad/TESIS/Datos/meteodata/calib/prec/DBs/smoothed_threshold_monthly_p85_leap_year.npy\", smooth_p85_leap_year)\n",
    "#-----------------------------------------------------------------------------------------------------------------"
   ]
  },
  {
   "cell_type": "code",
   "execution_count": 21,
   "metadata": {},
   "outputs": [],
   "source": [
    "#CODE FOR CALCULATING BINARY REPRESENTATION OF DROUGHT ACCORDING TO THE 85 PERCENTILE OF THE CODE ABOVE. EXPORTED TO A DATABASE\n",
    "\n",
    "drought_binary_db = np.zeros(shape=(raster_rows, raster_columns, analysis_period_years, 12, 31)).astype('int')\n",
    "\n",
    "for row in range(raster_rows):\n",
    "    for column in range(raster_columns):\n",
    "        for month in range(12):\n",
    "            for year in range(analysis_period_years):\n",
    "                days_of_month = calendar.monthrange(start.year + year, month + 1)[1]\n",
    "                for day in range(days_of_month):\n",
    "                    if calendar.isleap(start.year + year):\n",
    "                        if (db[row, column, year, month, day] - smooth_p85_leap_year[row, column, month]) >= 0:\n",
    "                            drought_binary_db[row, column, year, month, day] = 0\n",
    "                        else:\n",
    "                            drought_binary_db[row, column, year, month, day] = 1\n",
    "                    else:\n",
    "                        if (db[row, column, year, month, day] - smooth_p85_regular_year[row, column, month]) >= 0:\n",
    "                            drought_binary_db[row, column, year, month, day] = 0\n",
    "                        else:\n",
    "                            drought_binary_db[row, column, year, month, day] = 1\n",
    "\n",
    "np.save(\"/Users/juanmanuel/Documents/Juan Manuel/Universidad/TESIS/Datos/meteodata/calib/prec/DBs/drought_binary_db.npy\", drought_binary_db)\n",
    "#-----------------------------------------------------------------------------------------------------------------"
   ]
  },
  {
   "cell_type": "code",
   "execution_count": 22,
   "metadata": {},
   "outputs": [],
   "source": [
    "db = None\n",
    "db_month_p85 = None\n",
    "flat_p85_regular_year = None\n",
    "flat_p85_leap_year = None\n",
    "smooth_p85_regular_year = None\n",
    "smooth_p85_leap_year = None\n",
    "drought_binary_db = None"
   ]
  },
  {
   "cell_type": "code",
   "execution_count": null,
   "metadata": {},
   "outputs": [],
   "source": []
  }
 ],
 "metadata": {
  "kernelspec": {
   "display_name": "Python 2",
   "language": "python",
   "name": "python2"
  },
  "language_info": {
   "codemirror_mode": {
    "name": "ipython",
    "version": 2
   },
   "file_extension": ".py",
   "mimetype": "text/x-python",
   "name": "python",
   "nbconvert_exporter": "python",
   "pygments_lexer": "ipython2",
   "version": "2.7.16"
  }
 },
 "nbformat": 4,
 "nbformat_minor": 2
}
