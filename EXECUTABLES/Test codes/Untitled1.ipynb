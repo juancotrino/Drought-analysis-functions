{
 "cells": [
  {
   "cell_type": "code",
   "execution_count": 1,
   "metadata": {},
   "outputs": [],
   "source": [
    "import numpy as np\n",
    "from datetime import datetime, timedelta\n",
    "from osgeo import gdal, gdal_array"
   ]
  },
  {
   "cell_type": "code",
   "execution_count": 2,
   "metadata": {},
   "outputs": [],
   "source": [
    "start = datetime.strptime(\"01-01-1979\", \"%d-%m-%Y\")\n",
    "end = datetime.strptime(\"01-01-1982\", \"%d-%m-%Y\")\n",
    "date_generated = [start + timedelta(days=x) for x in range(0, (end-start).days + 1)]"
   ]
  },
  {
   "cell_type": "code",
   "execution_count": 3,
   "metadata": {},
   "outputs": [],
   "source": [
    "src_filepath = \"/Users/juanmanuel/Documents/Juan Manuel/Universidad/TESIS/Datos/meteodata/calib/prec/TIFF/\"\n",
    "dst_filepath = \"/Users/juanmanuel/Documents/Juan Manuel/Universidad/TESIS/Datos/meteodata/calib/prec/TEST/\"\n",
    "shpfile_clip = '/Users/juanmanuel/Documents/OneDrive - ESCUELA COLOMBIANA DE INGENIERIA JULIO GARAVITO/1. TRABAJO DE GRADO/1. Tesis/2. Datos/0. Datos 20190912/Datos _iniciales/data/GIS/Mapa_General/cuenca_magdalena_proyectado.shp'"
   ]
  },
  {
   "cell_type": "code",
   "execution_count": 4,
   "metadata": {},
   "outputs": [],
   "source": [
    "reference_raster = gdal.Open(\"/Users/juanmanuel/Documents/Juan Manuel/Universidad/TESIS/Datos/meteodata/calib/prec/TIFF/daily-prec_19790101.tiff\")\n",
    "reference_raster_array = np.array(reference_raster.GetRasterBand(1).ReadAsArray())\n",
    "#db = np.zeros(shape=(len(reference_raster_array), len(reference_raster_array[0]), (end.year - start.year), 366))\n",
    "reference_raster = None"
   ]
  },
  {
   "cell_type": "code",
   "execution_count": 5,
   "metadata": {},
   "outputs": [],
   "source": [
    "db = np.load(\"/Users/juanmanuel/Documents/Juan Manuel/Universidad/TESIS/Datos/meteodata/calib/prec/prec_db.npy\")\n",
    "db_p85 = np.load(\"/Users/juanmanuel/Documents/Juan Manuel/Universidad/TESIS/Datos/meteodata/calib/prec/treshold_perc85.npy\")"
   ]
  },
  {
   "cell_type": "code",
   "execution_count": 21,
   "metadata": {},
   "outputs": [
    {
     "name": "stdout",
     "output_type": "stream",
     "text": [
      "(191, 94, 3, 366) (191, 94, 366) (191, 94, 3, 366)\n"
     ]
    }
   ],
   "source": [
    "print db.shape, db_p85.shape, drought_binary_db.shape"
   ]
  },
  {
   "cell_type": "code",
   "execution_count": 7,
   "metadata": {},
   "outputs": [],
   "source": [
    "drought_binary_db = np.zeros(shape=(len(reference_raster_array), len(reference_raster_array[0]), (end.year - start.year), 366)).astype('int')"
   ]
  },
  {
   "cell_type": "code",
   "execution_count": 8,
   "metadata": {},
   "outputs": [],
   "source": [
    "height = len(reference_raster_array)\n",
    "width = len(reference_raster_array[0])\n",
    "analysis_period_years = end.year - start.year\n",
    "days_number = 365\n",
    "\n",
    "for day in range(days_number):\n",
    "    for year in range(analysis_period_years):\n",
    "        for y in range(height):\n",
    "            for x in range(width):\n",
    "                if (db[y, x, year, day] - db_p85[y, x, day]) >= 0:\n",
    "                    drought_binary_db[y, x, year,day] = 0\n",
    "                else:\n",
    "                    drought_binary_db[y, x, year,day] = 1\n",
    "np.save(\"/Users/juanmanuel/Documents/Juan Manuel/Universidad/TESIS/Datos/meteodata/calib/prec/drought_binary_db.npy\", drought_binary_db)\n",
    "drought_binary_db = None"
   ]
  },
  {
   "cell_type": "code",
   "execution_count": 9,
   "metadata": {},
   "outputs": [],
   "source": [
    "drought_binary_db = np.load(\"/Users/juanmanuel/Documents/Juan Manuel/Universidad/TESIS/Datos/meteodata/calib/prec/drought_binary_db.npy\")"
   ]
  },
  {
   "cell_type": "code",
   "execution_count": 20,
   "metadata": {},
   "outputs": [],
   "source": [
    "np.savetxt(\"/Users/juanmanuel/Documents/Juan Manuel/Universidad/TESIS/Datos/meteodata/calib/prec/binary_TEST.csv\",\n",
    "           drought_binary_db[:, :, 0, 46],\n",
    "           fmt='%i',\n",
    "           delimiter=',')"
   ]
  },
  {
   "cell_type": "code",
   "execution_count": null,
   "metadata": {},
   "outputs": [],
   "source": []
  }
 ],
 "metadata": {
  "kernelspec": {
   "display_name": "Python 2",
   "language": "python",
   "name": "python2"
  },
  "language_info": {
   "codemirror_mode": {
    "name": "ipython",
    "version": 2
   },
   "file_extension": ".py",
   "mimetype": "text/x-python",
   "name": "python",
   "nbconvert_exporter": "python",
   "pygments_lexer": "ipython2",
   "version": "2.7.16"
  }
 },
 "nbformat": 4,
 "nbformat_minor": 2
}
